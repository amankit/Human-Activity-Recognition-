{
 "cells": [
  {
   "cell_type": "code",
   "execution_count": 1,
   "metadata": {
    "collapsed": true
   },
   "outputs": [],
   "source": [
    "# Importing Libraries"
   ]
  },
  {
   "cell_type": "code",
   "execution_count": 2,
   "metadata": {},
   "outputs": [],
   "source": [
    "import pandas as pd\n",
    "import numpy as np"
   ]
  },
  {
   "cell_type": "code",
   "execution_count": 3,
   "metadata": {},
   "outputs": [],
   "source": [
    "# Activities are the class labels\n",
    "# It is a 6 class classification\n",
    "ACTIVITIES = {\n",
    "    0: 'WALKING',\n",
    "    1: 'WALKING_UPSTAIRS',\n",
    "    2: 'WALKING_DOWNSTAIRS',\n",
    "    3: 'SITTING',\n",
    "    4: 'STANDING',\n",
    "    5: 'LAYING',\n",
    "}\n",
    "\n",
    "# Utility function to print the confusion matrix\n",
    "def confusion_matrix(Y_true, Y_pred):\n",
    "    Y_true = pd.Series([ACTIVITIES[y] for y in np.argmax(Y_true, axis=1)])\n",
    "    Y_pred = pd.Series([ACTIVITIES[y] for y in np.argmax(Y_pred, axis=1)])\n",
    "\n",
    "    return pd.crosstab(Y_true, Y_pred, rownames=['True'], colnames=['Pred'])"
   ]
  },
  {
   "cell_type": "code",
   "execution_count": 35,
   "metadata": {},
   "outputs": [],
   "source": [
    "labels = labels=['WALKING','WALKING_UPSTAIRS','WALKING_DOWNSTAIRS','SITTING','STANDING','LAYING']"
   ]
  },
  {
   "cell_type": "markdown",
   "metadata": {},
   "source": [
    "### Data"
   ]
  },
  {
   "cell_type": "code",
   "execution_count": 5,
   "metadata": {},
   "outputs": [],
   "source": [
    "# Data directory\n",
    "DATADIR = 'UCI_HAR_Dataset'"
   ]
  },
  {
   "cell_type": "code",
   "execution_count": 6,
   "metadata": {},
   "outputs": [],
   "source": [
    "# Raw data signals\n",
    "# Signals are from Accelerometer and Gyroscope\n",
    "# The signals are in x,y,z directions\n",
    "# Sensor signals are filtered to have only body acceleration\n",
    "# excluding the acceleration due to gravity\n",
    "# Triaxial acceleration from the accelerometer is total acceleration\n",
    "SIGNALS = [\n",
    "    \"body_acc_x\",\n",
    "    \"body_acc_y\",\n",
    "    \"body_acc_z\",\n",
    "    \"body_gyro_x\",\n",
    "    \"body_gyro_y\",\n",
    "    \"body_gyro_z\",\n",
    "    \"total_acc_x\",\n",
    "    \"total_acc_y\",\n",
    "    \"total_acc_z\"\n",
    "]"
   ]
  },
  {
   "cell_type": "code",
   "execution_count": 19,
   "metadata": {},
   "outputs": [],
   "source": [
    "# Utility function to read the data from csv file\n",
    "def _read_csv(filename):\n",
    "    return pd.read_csv(filename, delim_whitespace=True, header=None)\n",
    "\n",
    "# Utility function to load the load\n",
    "def load_signals(subset):\n",
    "    signals_data = []\n",
    "\n",
    "    for signal in SIGNALS:\n",
    "        filename = f'UCI_HAR_Dataset/{subset}/Inertial Signals/{signal}_{subset}.txt'\n",
    "        signals_data.append(\n",
    "            _read_csv(filename).values\n",
    "        ) \n",
    "\n",
    "    # Transpose is used to change the dimensionality of the output,\n",
    "    # aggregating the signals by combination of sample/timestep.\n",
    "    # Resultant shape is (7352 train/2947 test samples, 128 timesteps, 9 signals)\n",
    "    return np.transpose(signals_data, (1, 2, 0))"
   ]
  },
  {
   "cell_type": "code",
   "execution_count": 20,
   "metadata": {},
   "outputs": [],
   "source": [
    "\n",
    "def load_y(subset):\n",
    "    \"\"\"\n",
    "    The objective that we are trying to predict is a integer, from 1 to 6,\n",
    "    that represents a human activity. We return a binary representation of \n",
    "    every sample objective as a 6 bits vector using One Hot Encoding\n",
    "    (https://pandas.pydata.org/pandas-docs/stable/generated/pandas.get_dummies.html)\n",
    "    \"\"\"\n",
    "    filename = f'UCI_HAR_Dataset/{subset}/y_{subset}.txt'\n",
    "    y = _read_csv(filename)[0]\n",
    "\n",
    "    return pd.get_dummies(y).values"
   ]
  },
  {
   "cell_type": "code",
   "execution_count": 21,
   "metadata": {},
   "outputs": [],
   "source": [
    "def load_data():\n",
    "    \"\"\"\n",
    "    Obtain the dataset from multiple files.\n",
    "    Returns: X_train, X_test, y_train, y_test\n",
    "    \"\"\"\n",
    "    X_train, X_test = load_signals('train'), load_signals('test')\n",
    "    y_train, y_test = load_y('train'), load_y('test')\n",
    "\n",
    "    return X_train, X_test, y_train, y_test"
   ]
  },
  {
   "cell_type": "code",
   "execution_count": 22,
   "metadata": {},
   "outputs": [],
   "source": [
    "# Importing tensorflow\n",
    "np.random.seed(42)\n",
    "import tensorflow.compat.v1 as tf\n",
    "tf.disable_v2_behavior()\n",
    "tf.set_random_seed(42)"
   ]
  },
  {
   "cell_type": "code",
   "execution_count": 23,
   "metadata": {},
   "outputs": [],
   "source": [
    "# Configuring a session\n",
    "session_conf = tf.ConfigProto(\n",
    "    intra_op_parallelism_threads=1,\n",
    "    inter_op_parallelism_threads=1\n",
    ")"
   ]
  },
  {
   "cell_type": "code",
   "execution_count": 24,
   "metadata": {},
   "outputs": [],
   "source": [
    "# Import Keras\n",
    "from keras import backend as K\n",
    "sess = tf.Session(graph=tf.get_default_graph(), config=session_conf)\n",
    "K.set_session(sess)"
   ]
  },
  {
   "cell_type": "code",
   "execution_count": 25,
   "metadata": {},
   "outputs": [],
   "source": [
    "# Importing libraries\n",
    "from keras.models import Sequential\n",
    "from keras.layers import LSTM\n",
    "from keras.layers.core import Dense, Dropout"
   ]
  },
  {
   "cell_type": "code",
   "execution_count": 26,
   "metadata": {},
   "outputs": [],
   "source": [
    "# Initializing parameters\n",
    "epochs = 30\n",
    "batch_size = 16\n",
    "n_hidden = 32"
   ]
  },
  {
   "cell_type": "code",
   "execution_count": 27,
   "metadata": {},
   "outputs": [],
   "source": [
    "# Utility function to count the number of classes\n",
    "def _count_classes(y):\n",
    "    return len(set([tuple(category) for category in y]))"
   ]
  },
  {
   "cell_type": "code",
   "execution_count": 29,
   "metadata": {},
   "outputs": [],
   "source": [
    "# Loading the train and test data\n",
    "X_train, X_test, Y_train, Y_test = load_data()"
   ]
  },
  {
   "cell_type": "code",
   "execution_count": 30,
   "metadata": {},
   "outputs": [
    {
     "name": "stdout",
     "output_type": "stream",
     "text": [
      "128\n",
      "9\n",
      "7352\n"
     ]
    }
   ],
   "source": [
    "timesteps = len(X_train[0])\n",
    "input_dim = len(X_train[0][0])\n",
    "n_classes = _count_classes(Y_train)\n",
    "\n",
    "print(timesteps)\n",
    "print(input_dim)\n",
    "print(len(X_train))"
   ]
  },
  {
   "cell_type": "markdown",
   "metadata": {},
   "source": [
    "- Defining the Architecture of LSTM"
   ]
  },
  {
   "cell_type": "code",
   "execution_count": 31,
   "metadata": {},
   "outputs": [
    {
     "name": "stdout",
     "output_type": "stream",
     "text": [
      "Model: \"sequential\"\n",
      "_________________________________________________________________\n",
      " Layer (type)                Output Shape              Param #   \n",
      "=================================================================\n",
      " lstm (LSTM)                 (None, 32)                5376      \n",
      "                                                                 \n",
      " dropout (Dropout)           (None, 32)                0         \n",
      "                                                                 \n",
      " dense (Dense)               (None, 6)                 198       \n",
      "                                                                 \n",
      "=================================================================\n",
      "Total params: 5,574\n",
      "Trainable params: 5,574\n",
      "Non-trainable params: 0\n",
      "_________________________________________________________________\n"
     ]
    }
   ],
   "source": [
    "# Initiliazing the sequential model\n",
    "model = Sequential()\n",
    "# Configuring the parameters\n",
    "model.add(LSTM(n_hidden, input_shape=(timesteps, input_dim)))\n",
    "# Adding a dropout layer\n",
    "model.add(Dropout(0.5))\n",
    "# Adding a dense output layer with sigmoid activation\n",
    "model.add(Dense(n_classes, activation='sigmoid'))\n",
    "model.summary()"
   ]
  },
  {
   "cell_type": "code",
   "execution_count": 32,
   "metadata": {},
   "outputs": [],
   "source": [
    "# Compiling the model\n",
    "model.compile(loss='categorical_crossentropy',\n",
    "              optimizer='adam',\n",
    "              metrics=['accuracy'])"
   ]
  },
  {
   "cell_type": "code",
   "execution_count": 33,
   "metadata": {},
   "outputs": [
    {
     "name": "stdout",
     "output_type": "stream",
     "text": [
      "Train on 7352 samples, validate on 2947 samples\n"
     ]
    },
    {
     "name": "stderr",
     "output_type": "stream",
     "text": [
      "2023-01-21 17:16:34.563025: I tensorflow/compiler/mlir/mlir_graph_optimization_pass.cc:354] MLIR V1 optimization pass is not enabled\n"
     ]
    },
    {
     "name": "stdout",
     "output_type": "stream",
     "text": [
      "Epoch 1/30\n",
      "7344/7352 [============================>.] - ETA: 0s - loss: 1.2153 - acc: 0.5018"
     ]
    },
    {
     "name": "stderr",
     "output_type": "stream",
     "text": [
      "/home/ankit/.local/lib/python3.8/site-packages/keras/engine/training_v1.py:2332: UserWarning: `Model.state_updates` will be removed in a future version. This property should not be used in TensorFlow 2.0, as `updates` are applied automatically.\n",
      "  updates = self.state_updates\n"
     ]
    },
    {
     "name": "stdout",
     "output_type": "stream",
     "text": [
      "7352/7352 [==============================] - 14s 2ms/sample - loss: 1.2150 - acc: 0.5019 - val_loss: 0.9765 - val_acc: 0.5636\n",
      "Epoch 2/30\n",
      "7352/7352 [==============================] - 14s 2ms/sample - loss: 0.7382 - acc: 0.6982 - val_loss: 0.7342 - val_acc: 0.6790\n",
      "Epoch 3/30\n",
      "7352/7352 [==============================] - 14s 2ms/sample - loss: 0.7690 - acc: 0.6915 - val_loss: 0.6847 - val_acc: 0.7136\n",
      "Epoch 4/30\n",
      "7352/7352 [==============================] - 14s 2ms/sample - loss: 0.7299 - acc: 0.7282 - val_loss: 0.7027 - val_acc: 0.7306\n",
      "Epoch 5/30\n",
      "7352/7352 [==============================] - 14s 2ms/sample - loss: 0.5722 - acc: 0.7909 - val_loss: 0.5887 - val_acc: 0.7937\n",
      "Epoch 6/30\n",
      "7352/7352 [==============================] - 14s 2ms/sample - loss: 0.4494 - acc: 0.8449 - val_loss: 0.5355 - val_acc: 0.7900\n",
      "Epoch 7/30\n",
      "7352/7352 [==============================] - 15s 2ms/sample - loss: 0.3807 - acc: 0.8818 - val_loss: 0.4537 - val_acc: 0.8660\n",
      "Epoch 8/30\n",
      "7352/7352 [==============================] - 15s 2ms/sample - loss: 0.3912 - acc: 0.8791 - val_loss: 0.4149 - val_acc: 0.8629\n",
      "Epoch 9/30\n",
      "7352/7352 [==============================] - 15s 2ms/sample - loss: 0.3302 - acc: 0.8969 - val_loss: 0.4302 - val_acc: 0.8558\n",
      "Epoch 10/30\n",
      "7352/7352 [==============================] - 14s 2ms/sample - loss: 0.2677 - acc: 0.9124 - val_loss: 0.3947 - val_acc: 0.8704\n",
      "Epoch 11/30\n",
      "7352/7352 [==============================] - 14s 2ms/sample - loss: 0.3227 - acc: 0.9022 - val_loss: 0.3116 - val_acc: 0.8812\n",
      "Epoch 12/30\n",
      "7352/7352 [==============================] - 14s 2ms/sample - loss: 0.2420 - acc: 0.9212 - val_loss: 0.3379 - val_acc: 0.8856\n",
      "Epoch 13/30\n",
      "7352/7352 [==============================] - 14s 2ms/sample - loss: 0.2859 - acc: 0.9017 - val_loss: 0.4166 - val_acc: 0.8819\n",
      "Epoch 14/30\n",
      "7352/7352 [==============================] - 14s 2ms/sample - loss: 0.2629 - acc: 0.9195 - val_loss: 0.3541 - val_acc: 0.8812\n",
      "Epoch 15/30\n",
      "7352/7352 [==============================] - 14s 2ms/sample - loss: 0.2944 - acc: 0.9066 - val_loss: 0.3317 - val_acc: 0.8911\n",
      "Epoch 16/30\n",
      "7352/7352 [==============================] - 14s 2ms/sample - loss: 0.1911 - acc: 0.9346 - val_loss: 0.3097 - val_acc: 0.8972\n",
      "Epoch 17/30\n",
      "7352/7352 [==============================] - 14s 2ms/sample - loss: 0.1795 - acc: 0.9357 - val_loss: 0.4913 - val_acc: 0.8599\n",
      "Epoch 18/30\n",
      "7352/7352 [==============================] - 14s 2ms/sample - loss: 0.1646 - acc: 0.9387 - val_loss: 0.3312 - val_acc: 0.8968\n",
      "Epoch 19/30\n",
      "7352/7352 [==============================] - 14s 2ms/sample - loss: 0.1711 - acc: 0.9385 - val_loss: 0.3509 - val_acc: 0.8931\n",
      "Epoch 20/30\n",
      "7352/7352 [==============================] - 14s 2ms/sample - loss: 0.2282 - acc: 0.9236 - val_loss: 0.3115 - val_acc: 0.8860\n",
      "Epoch 21/30\n",
      "7352/7352 [==============================] - 14s 2ms/sample - loss: 0.1949 - acc: 0.9293 - val_loss: 0.4102 - val_acc: 0.8775\n",
      "Epoch 22/30\n",
      "7352/7352 [==============================] - 14s 2ms/sample - loss: 0.1505 - acc: 0.9414 - val_loss: 0.3586 - val_acc: 0.8965\n",
      "Epoch 23/30\n",
      "7352/7352 [==============================] - 14s 2ms/sample - loss: 0.1629 - acc: 0.9380 - val_loss: 0.4253 - val_acc: 0.8768\n",
      "Epoch 24/30\n",
      "7352/7352 [==============================] - 14s 2ms/sample - loss: 0.1469 - acc: 0.9448 - val_loss: 0.2864 - val_acc: 0.9070\n",
      "Epoch 25/30\n",
      "7352/7352 [==============================] - 14s 2ms/sample - loss: 0.1456 - acc: 0.9430 - val_loss: 0.3198 - val_acc: 0.8941\n",
      "Epoch 26/30\n",
      "7352/7352 [==============================] - 15s 2ms/sample - loss: 0.1505 - acc: 0.9442 - val_loss: 0.2979 - val_acc: 0.9108\n",
      "Epoch 27/30\n",
      "7352/7352 [==============================] - 14s 2ms/sample - loss: 0.1351 - acc: 0.9476 - val_loss: 0.3456 - val_acc: 0.9141\n",
      "Epoch 28/30\n",
      "7352/7352 [==============================] - 13s 2ms/sample - loss: 0.1949 - acc: 0.9350 - val_loss: 0.3783 - val_acc: 0.8809\n",
      "Epoch 29/30\n",
      "7352/7352 [==============================] - 13s 2ms/sample - loss: 0.1898 - acc: 0.9325 - val_loss: 0.4096 - val_acc: 0.8999\n",
      "Epoch 30/30\n",
      "7352/7352 [==============================] - 12s 2ms/sample - loss: 0.1762 - acc: 0.9362 - val_loss: 0.3074 - val_acc: 0.9030\n"
     ]
    },
    {
     "data": {
      "text/plain": [
       "<keras.callbacks.History at 0x7ff92d5e7940>"
      ]
     },
     "execution_count": 33,
     "metadata": {},
     "output_type": "execute_result"
    }
   ],
   "source": [
    "# Training the model\n",
    "model.fit(X_train,\n",
    "          Y_train,\n",
    "          batch_size=batch_size,\n",
    "          validation_data=(X_test, Y_test),\n",
    "          epochs=epochs)"
   ]
  },
  {
   "cell_type": "code",
   "execution_count": 38,
   "metadata": {},
   "outputs": [
    {
     "name": "stdout",
     "output_type": "stream",
     "text": [
      "Pred                LAYING  SITTING  STANDING  WALKING  WALKING_DOWNSTAIRS  \\\n",
      "True                                                                         \n",
      "LAYING                 510        0        24        0                   0   \n",
      "SITTING                  1      370       118        0                   0   \n",
      "STANDING                 0       93       434        1                   0   \n",
      "WALKING                  0        3         0      476                   9   \n",
      "WALKING_DOWNSTAIRS       0        0         0       11                 408   \n",
      "WALKING_UPSTAIRS         0        1         1        5                   1   \n",
      "\n",
      "Pred                WALKING_UPSTAIRS  \n",
      "True                                  \n",
      "LAYING                             3  \n",
      "SITTING                            2  \n",
      "STANDING                           4  \n",
      "WALKING                            8  \n",
      "WALKING_DOWNSTAIRS                 1  \n",
      "WALKING_UPSTAIRS                 463  \n"
     ]
    }
   ],
   "source": [
    "# Confusion Matrix\n",
    "from mlxtend.plotting import plot_confusion_matrix\n",
    "cm = confusion_matrix(Y_test, model.predict(X_test))\n",
    "print(cm)"
   ]
  },
  {
   "cell_type": "code",
   "execution_count": 39,
   "metadata": {},
   "outputs": [],
   "source": [
    "score = model.evaluate(X_test, Y_test)"
   ]
  },
  {
   "cell_type": "code",
   "execution_count": 40,
   "metadata": {},
   "outputs": [
    {
     "data": {
      "text/plain": [
       "[0.30736647124741084, 0.90295213]"
      ]
     },
     "execution_count": 40,
     "metadata": {},
     "output_type": "execute_result"
    }
   ],
   "source": [
    "score"
   ]
  },
  {
   "cell_type": "markdown",
   "metadata": {},
   "source": [
    "- With a simple 2 layer architecture we got 90.03% accuracy and a loss of 0.30\n",
    "- We can further imporve the performace with Hyperparameter tuning"
   ]
  },
  {
   "cell_type": "code",
   "execution_count": null,
   "metadata": {},
   "outputs": [],
   "source": []
  }
 ],
 "metadata": {
  "kernelspec": {
   "display_name": "Python 3 (ipykernel)",
   "language": "python",
   "name": "python3"
  },
  "language_info": {
   "codemirror_mode": {
    "name": "ipython",
    "version": 3
   },
   "file_extension": ".py",
   "mimetype": "text/x-python",
   "name": "python",
   "nbconvert_exporter": "python",
   "pygments_lexer": "ipython3",
   "version": "3.8.10"
  }
 },
 "nbformat": 4,
 "nbformat_minor": 2
}
